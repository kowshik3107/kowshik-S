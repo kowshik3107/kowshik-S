{
 "cells": [
  {
   "cell_type": "markdown",
   "metadata": {},
   "source": [
    "You are pilots, you have to land a plane, the altitude required for landing a plane is 1000ft, if it is\n",
    "less than that tell pilot to land the plane, or it is more than that but less than 5000ft ask the pilot \n",
    "to come down to 1000ft, else if it is more than 5000ft ask the pilot to go around and try later."
   ]
  },
  {
   "cell_type": "code",
   "execution_count": 31,
   "metadata": {},
   "outputs": [
    {
     "name": "stdout",
     "output_type": "stream",
     "text": [
      "land the plane\n"
     ]
    }
   ],
   "source": [
    "a =950\n",
    "if  a <= 1000:\n",
    "    print(\"land the plane\")\n",
    "elif a < 5000:\n",
    "    print(\"come down to 1000ft\")\n",
    "else:\n",
    "    print(\"go around and try later\")"
   ]
  },
  {
   "cell_type": "code",
   "execution_count": 27,
   "metadata": {},
   "outputs": [
    {
     "name": "stdout",
     "output_type": "stream",
     "text": [
      "come down to 1000ft\n"
     ]
    }
   ],
   "source": [
    "a =2000\n",
    "if  a <= 1000 :\n",
    "    print(\"land the plane\")\n",
    "elif a < 5000:\n",
    "    print(\"come down to 1000ft\")\n",
    "else:\n",
    "    print(\"go around and try later\")"
   ]
  },
  {
   "cell_type": "code",
   "execution_count": 1,
   "metadata": {},
   "outputs": [
    {
     "name": "stdout",
     "output_type": "stream",
     "text": [
      "go around and try later\n"
     ]
    }
   ],
   "source": [
    "a =6000\n",
    "if  a <= 1000 :\n",
    "    print(\"land the plane\")\n",
    "elif a < 5000:\n",
    "    print(\"come down to 1000ft\")\n",
    "else:\n",
    "    print(\"go around and try later\")"
   ]
  },
  {
   "cell_type": "code",
   "execution_count": null,
   "metadata": {},
   "outputs": [],
   "source": []
  }
 ],
 "metadata": {
  "kernelspec": {
   "display_name": "Python 3",
   "language": "python",
   "name": "python3"
  },
  "language_info": {
   "codemirror_mode": {
    "name": "ipython",
    "version": 3
   },
   "file_extension": ".py",
   "mimetype": "text/x-python",
   "name": "python",
   "nbconvert_exporter": "python",
   "pygments_lexer": "ipython3",
   "version": "3.8.3"
  }
 },
 "nbformat": 4,
 "nbformat_minor": 4
}
